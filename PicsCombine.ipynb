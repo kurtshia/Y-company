{
 "cells": [
  {
   "cell_type": "markdown",
   "metadata": {
    "collapsed": true
   },
   "source": [
    "# 圖片的拼接"
   ]
  },
  {
   "cell_type": "code",
   "execution_count": 1,
   "metadata": {},
   "outputs": [],
   "source": [
    "import os, sys\n",
    "import re\n",
    "from PIL import Image as Image\n",
    "import numpy as np"
   ]
  },
  {
   "cell_type": "code",
   "execution_count": 2,
   "metadata": {},
   "outputs": [
    {
     "name": "stdout",
     "output_type": "stream",
     "text": [
      " 磁碟區 C 中的磁碟是 Acer\n",
      " 磁碟區序號:  8159-6850\n",
      "\n",
      " C:\\Users\\鐸\\Documents\\monitor record\\combinePic 的目錄\n",
      "\n",
      "2018/11/02  下午 02:58    <DIR>          .\n",
      "2018/11/02  下午 02:58    <DIR>          ..\n",
      "2018/11/01  上午 11:45    <DIR>          .ipynb_checkpoints\n",
      "2018/11/02  下午 02:58            15,604 201810020443.png\n",
      "2018/11/02  下午 02:58            15,128 201810031615.png\n",
      "2018/11/02  下午 02:58            15,880 201810050513.png\n",
      "2018/11/02  下午 02:58            15,055 201810060923.png\n",
      "2018/11/02  下午 02:58            14,782 201810082137.png\n",
      "2018/11/02  下午 02:58            15,042 201810100423.png\n",
      "2018/11/02  下午 02:58            15,146 201810111333.png\n",
      "2018/11/02  下午 02:58            15,350 201810122042.png\n",
      "2018/11/02  下午 02:58            14,870 201810140302.png\n",
      "2018/11/02  下午 02:58            14,807 201810151004.png\n",
      "2018/11/02  下午 02:58            15,411 201810161822.png\n",
      "2018/11/02  下午 02:58            15,209 201810180317.png\n",
      "2018/11/02  下午 02:58            14,582 201810191015.png\n",
      "2018/11/02  下午 02:58            15,499 201810201716.png\n",
      "2018/11/02  下午 02:58            15,387 201810240903.png\n",
      "2018/11/02  下午 02:58            15,075 201810262101.png\n",
      "2018/11/02  下午 02:58            14,677 201810280318.png\n",
      "2018/11/02  下午 02:58            15,939 201810301427.png\n",
      "2018/11/02  下午 02:46             7,590 PicsCombine.ipynb\n",
      "              19 個檔案         281,033 位元組\n",
      "               3 個目錄  19,833,204,736 位元組可用\n"
     ]
    }
   ],
   "source": [
    "%ls"
   ]
  },
  {
   "cell_type": "code",
   "execution_count": 3,
   "metadata": {},
   "outputs": [
    {
     "name": "stdout",
     "output_type": "stream",
     "text": [
      "20\n"
     ]
    }
   ],
   "source": [
    "path = os.getcwd()    #获取当前路径\n",
    "count = 0\n",
    "for root,dirs,files in os.walk(path):    #遍历统计\n",
    "      for each in files:\n",
    "             count += 1   #统计文件夹下文件个数\n",
    "print(count)               #输出结果"
   ]
  },
  {
   "cell_type": "code",
   "execution_count": 4,
   "metadata": {},
   "outputs": [
    {
     "data": {
      "text/plain": [
       "['201810020443.png',\n",
       " '201810031615.png',\n",
       " '201810050513.png',\n",
       " '201810060923.png',\n",
       " '201810082137.png',\n",
       " '201810100423.png',\n",
       " '201810111333.png',\n",
       " '201810122042.png',\n",
       " '201810140302.png',\n",
       " '201810151004.png',\n",
       " '201810161822.png',\n",
       " '201810180317.png',\n",
       " '201810191015.png',\n",
       " '201810201716.png',\n",
       " '201810240903.png',\n",
       " '201810262101.png',\n",
       " '201810280318.png',\n",
       " '201810301427.png']"
      ]
     },
     "execution_count": 4,
     "metadata": {},
     "output_type": "execute_result"
    }
   ],
   "source": [
    "import glob\n",
    "\n",
    "targetPattern = r\"*.png\"\n",
    "png_file = glob.glob(targetPattern)\n",
    "png_file.sort()\n",
    "png_file"
   ]
  },
  {
   "cell_type": "markdown",
   "metadata": {},
   "source": [
    "png_file[1:2]"
   ]
  },
  {
   "cell_type": "markdown",
   "metadata": {},
   "source": [
    "# 開始拼接"
   ]
  },
  {
   "cell_type": "markdown",
   "metadata": {},
   "source": [
    "#建立新的空白圖片(width*height)\n",
    "#讀入想貼入的圖片\n",
    "#將圖片貼在新的空白圖片中(位置)\n"
   ]
  },
  {
   "cell_type": "markdown",
   "metadata": {},
   "source": [
    "#opens an image:\n",
    "jpgSize_w = 288\n",
    "jpgSize_h = 144\n",
    "\n",
    "new_im = Image.new('RGB', (jpgSize_w*7, jpgSize_h*7),(255,255,255))\n",
    "\n",
    "for y in range (count-1):\n",
    "    for x in range(count-1): #count = 總檔案數-1(ipynb檔)\n",
    "        \n",
    "            k = png_file[x:x+1]  #取出檔名\n",
    "            filename = str(''.join(k)) #將檔名轉為string\n",
    "            \n",
    "            FromImage = Image.open(filename)\n",
    "            new_im.paste(FromImage, ((x-1)*jpgSize_w, (y-1)*jpgSize_h))\n",
    "        \n",
    "new_im.save('combine.jpg')"
   ]
  },
  {
   "cell_type": "code",
   "execution_count": 5,
   "metadata": {},
   "outputs": [],
   "source": [
    "#opens an image:\n",
    "jpgSize_w = 288\n",
    "jpgSize_h = 144\n",
    "\n",
    "filesNr = len(png_file)\n",
    "\n",
    "    \n",
    "new_im = Image.new('RGB', (jpgSize_w*7, jpgSize_h*7),(255,255,255))\n",
    "\n",
    "for i in range (filesNr):\n",
    "   #count = 總檔案數-1(ipynb檔)\n",
    "        \n",
    "    k = png_file[i:i+1]  #取出檔名\n",
    "    filename = str(''.join(k)) #將檔名轉為string\n",
    "            \n",
    "    FromImage = Image.open(filename)\n",
    "       \n",
    "    y = int(i/6)\n",
    "    x1 = i % 6\n",
    "    x2 = 6 \n",
    "    \n",
    "    if x1 > 0:\n",
    "        \n",
    "        new_im.paste(FromImage, ( y *jpgSize_w, (x1-1)*jpgSize_h ))\n",
    "        \n",
    "    else:\n",
    "        \n",
    "        new_im.paste(FromImage, ( y *jpgSize_w, (x2-1)*jpgSize_h ))\n",
    "        \n",
    "        \n",
    "new_im.save('combine.jpg')"
   ]
  },
  {
   "cell_type": "code",
   "execution_count": null,
   "metadata": {},
   "outputs": [],
   "source": []
  }
 ],
 "metadata": {
  "kernelspec": {
   "display_name": "Python 3",
   "language": "python",
   "name": "python3"
  },
  "language_info": {
   "codemirror_mode": {
    "name": "ipython",
    "version": 3
   },
   "file_extension": ".py",
   "mimetype": "text/x-python",
   "name": "python",
   "nbconvert_exporter": "python",
   "pygments_lexer": "ipython3",
   "version": "3.6.6"
  }
 },
 "nbformat": 4,
 "nbformat_minor": 2
}
